{
 "cells": [
  {
   "cell_type": "code",
   "execution_count": 213,
   "metadata": {},
   "outputs": [],
   "source": [
    "import numpy as np\n",
    "import pandas as pd\n",
    "import matplotlib.pyplot as plt\n",
    "import seaborn as sns\n",
    "%matplotlib inline\n",
    "from scipy.stats import norm"
   ]
  },
  {
   "cell_type": "code",
   "execution_count": 214,
   "metadata": {},
   "outputs": [],
   "source": [
    "train=pd.read_csv(\"train.csv\")\n",
    "test=pd.read_csv(\"test.csv\")"
   ]
  },
  {
   "cell_type": "code",
   "execution_count": 215,
   "metadata": {},
   "outputs": [
    {
     "data": {
      "text/plain": [
       "((79853, 12), (34224, 11))"
      ]
     },
     "execution_count": 215,
     "metadata": {},
     "output_type": "execute_result"
    }
   ],
   "source": [
    "train['age_in_days'] = train['age_in_days']/365\n",
    "test['age_in_days'] = test['age_in_days']/365\n",
    "train.rename(columns={'age_in_days':'age'}, inplace=True)\n",
    "test.rename(columns={'age_in_days':'age'}, inplace=True)\n",
    "train.shape,test.shape"
   ]
  },
  {
   "cell_type": "code",
   "execution_count": 216,
   "metadata": {},
   "outputs": [
    {
     "data": {
      "text/html": [
       "<div>\n",
       "<style scoped>\n",
       "    .dataframe tbody tr th:only-of-type {\n",
       "        vertical-align: middle;\n",
       "    }\n",
       "\n",
       "    .dataframe tbody tr th {\n",
       "        vertical-align: top;\n",
       "    }\n",
       "\n",
       "    .dataframe thead th {\n",
       "        text-align: right;\n",
       "    }\n",
       "</style>\n",
       "<table border=\"1\" class=\"dataframe\">\n",
       "  <thead>\n",
       "    <tr style=\"text-align: right;\">\n",
       "      <th></th>\n",
       "      <th>id</th>\n",
       "      <th>perc_premium_paid_by_cash_credit</th>\n",
       "      <th>age</th>\n",
       "      <th>Income</th>\n",
       "      <th>Count_3-6_months_late</th>\n",
       "      <th>Count_6-12_months_late</th>\n",
       "      <th>Count_more_than_12_months_late</th>\n",
       "      <th>application_underwriting_score</th>\n",
       "      <th>no_of_premiums_paid</th>\n",
       "      <th>sourcing_channel</th>\n",
       "      <th>residence_area_type</th>\n",
       "      <th>target</th>\n",
       "    </tr>\n",
       "  </thead>\n",
       "  <tbody>\n",
       "    <tr>\n",
       "      <th>0</th>\n",
       "      <td>110936</td>\n",
       "      <td>0.429</td>\n",
       "      <td>33.035616</td>\n",
       "      <td>355060</td>\n",
       "      <td>0.0</td>\n",
       "      <td>0.0</td>\n",
       "      <td>0.0</td>\n",
       "      <td>99.02</td>\n",
       "      <td>13</td>\n",
       "      <td>C</td>\n",
       "      <td>Urban</td>\n",
       "      <td>1</td>\n",
       "    </tr>\n",
       "    <tr>\n",
       "      <th>1</th>\n",
       "      <td>41492</td>\n",
       "      <td>0.010</td>\n",
       "      <td>59.030137</td>\n",
       "      <td>315150</td>\n",
       "      <td>0.0</td>\n",
       "      <td>0.0</td>\n",
       "      <td>0.0</td>\n",
       "      <td>99.89</td>\n",
       "      <td>21</td>\n",
       "      <td>A</td>\n",
       "      <td>Urban</td>\n",
       "      <td>1</td>\n",
       "    </tr>\n",
       "    <tr>\n",
       "      <th>2</th>\n",
       "      <td>31300</td>\n",
       "      <td>0.917</td>\n",
       "      <td>48.030137</td>\n",
       "      <td>84140</td>\n",
       "      <td>2.0</td>\n",
       "      <td>3.0</td>\n",
       "      <td>1.0</td>\n",
       "      <td>98.69</td>\n",
       "      <td>7</td>\n",
       "      <td>C</td>\n",
       "      <td>Rural</td>\n",
       "      <td>0</td>\n",
       "    </tr>\n",
       "    <tr>\n",
       "      <th>3</th>\n",
       "      <td>19415</td>\n",
       "      <td>0.049</td>\n",
       "      <td>42.030137</td>\n",
       "      <td>250510</td>\n",
       "      <td>0.0</td>\n",
       "      <td>0.0</td>\n",
       "      <td>0.0</td>\n",
       "      <td>99.57</td>\n",
       "      <td>9</td>\n",
       "      <td>A</td>\n",
       "      <td>Urban</td>\n",
       "      <td>1</td>\n",
       "    </tr>\n",
       "    <tr>\n",
       "      <th>4</th>\n",
       "      <td>99379</td>\n",
       "      <td>0.052</td>\n",
       "      <td>86.027397</td>\n",
       "      <td>198680</td>\n",
       "      <td>0.0</td>\n",
       "      <td>0.0</td>\n",
       "      <td>0.0</td>\n",
       "      <td>99.87</td>\n",
       "      <td>12</td>\n",
       "      <td>B</td>\n",
       "      <td>Urban</td>\n",
       "      <td>1</td>\n",
       "    </tr>\n",
       "    <tr>\n",
       "      <th>5</th>\n",
       "      <td>59951</td>\n",
       "      <td>0.540</td>\n",
       "      <td>48.019178</td>\n",
       "      <td>282080</td>\n",
       "      <td>2.0</td>\n",
       "      <td>0.0</td>\n",
       "      <td>0.0</td>\n",
       "      <td>99.18</td>\n",
       "      <td>9</td>\n",
       "      <td>B</td>\n",
       "      <td>Rural</td>\n",
       "      <td>1</td>\n",
       "    </tr>\n",
       "    <tr>\n",
       "      <th>6</th>\n",
       "      <td>54031</td>\n",
       "      <td>1.000</td>\n",
       "      <td>68.024658</td>\n",
       "      <td>118400</td>\n",
       "      <td>0.0</td>\n",
       "      <td>0.0</td>\n",
       "      <td>0.0</td>\n",
       "      <td>99.05</td>\n",
       "      <td>11</td>\n",
       "      <td>B</td>\n",
       "      <td>Urban</td>\n",
       "      <td>1</td>\n",
       "    </tr>\n",
       "    <tr>\n",
       "      <th>7</th>\n",
       "      <td>94290</td>\n",
       "      <td>1.000</td>\n",
       "      <td>60.030137</td>\n",
       "      <td>180240</td>\n",
       "      <td>1.0</td>\n",
       "      <td>6.0</td>\n",
       "      <td>4.0</td>\n",
       "      <td>99.33</td>\n",
       "      <td>3</td>\n",
       "      <td>A</td>\n",
       "      <td>Urban</td>\n",
       "      <td>0</td>\n",
       "    </tr>\n",
       "    <tr>\n",
       "      <th>8</th>\n",
       "      <td>93730</td>\n",
       "      <td>0.621</td>\n",
       "      <td>27.035616</td>\n",
       "      <td>92520</td>\n",
       "      <td>0.0</td>\n",
       "      <td>0.0</td>\n",
       "      <td>0.0</td>\n",
       "      <td>99.58</td>\n",
       "      <td>4</td>\n",
       "      <td>A</td>\n",
       "      <td>Urban</td>\n",
       "      <td>1</td>\n",
       "    </tr>\n",
       "    <tr>\n",
       "      <th>9</th>\n",
       "      <td>84844</td>\n",
       "      <td>0.908</td>\n",
       "      <td>63.035616</td>\n",
       "      <td>107180</td>\n",
       "      <td>2.0</td>\n",
       "      <td>0.0</td>\n",
       "      <td>0.0</td>\n",
       "      <td>98.91</td>\n",
       "      <td>11</td>\n",
       "      <td>A</td>\n",
       "      <td>Rural</td>\n",
       "      <td>0</td>\n",
       "    </tr>\n",
       "  </tbody>\n",
       "</table>\n",
       "</div>"
      ],
      "text/plain": [
       "       id  perc_premium_paid_by_cash_credit        age  Income  \\\n",
       "0  110936                             0.429  33.035616  355060   \n",
       "1   41492                             0.010  59.030137  315150   \n",
       "2   31300                             0.917  48.030137   84140   \n",
       "3   19415                             0.049  42.030137  250510   \n",
       "4   99379                             0.052  86.027397  198680   \n",
       "5   59951                             0.540  48.019178  282080   \n",
       "6   54031                             1.000  68.024658  118400   \n",
       "7   94290                             1.000  60.030137  180240   \n",
       "8   93730                             0.621  27.035616   92520   \n",
       "9   84844                             0.908  63.035616  107180   \n",
       "\n",
       "   Count_3-6_months_late  Count_6-12_months_late  \\\n",
       "0                    0.0                     0.0   \n",
       "1                    0.0                     0.0   \n",
       "2                    2.0                     3.0   \n",
       "3                    0.0                     0.0   \n",
       "4                    0.0                     0.0   \n",
       "5                    2.0                     0.0   \n",
       "6                    0.0                     0.0   \n",
       "7                    1.0                     6.0   \n",
       "8                    0.0                     0.0   \n",
       "9                    2.0                     0.0   \n",
       "\n",
       "   Count_more_than_12_months_late  application_underwriting_score  \\\n",
       "0                             0.0                           99.02   \n",
       "1                             0.0                           99.89   \n",
       "2                             1.0                           98.69   \n",
       "3                             0.0                           99.57   \n",
       "4                             0.0                           99.87   \n",
       "5                             0.0                           99.18   \n",
       "6                             0.0                           99.05   \n",
       "7                             4.0                           99.33   \n",
       "8                             0.0                           99.58   \n",
       "9                             0.0                           98.91   \n",
       "\n",
       "   no_of_premiums_paid sourcing_channel residence_area_type  target  \n",
       "0                   13                C               Urban       1  \n",
       "1                   21                A               Urban       1  \n",
       "2                    7                C               Rural       0  \n",
       "3                    9                A               Urban       1  \n",
       "4                   12                B               Urban       1  \n",
       "5                    9                B               Rural       1  \n",
       "6                   11                B               Urban       1  \n",
       "7                    3                A               Urban       0  \n",
       "8                    4                A               Urban       1  \n",
       "9                   11                A               Rural       0  "
      ]
     },
     "execution_count": 216,
     "metadata": {},
     "output_type": "execute_result"
    }
   ],
   "source": [
    "train.head(10)"
   ]
  },
  {
   "cell_type": "code",
   "execution_count": 217,
   "metadata": {
    "scrolled": false
   },
   "outputs": [
    {
     "data": {
      "text/html": [
       "<div>\n",
       "<style scoped>\n",
       "    .dataframe tbody tr th:only-of-type {\n",
       "        vertical-align: middle;\n",
       "    }\n",
       "\n",
       "    .dataframe tbody tr th {\n",
       "        vertical-align: top;\n",
       "    }\n",
       "\n",
       "    .dataframe thead th {\n",
       "        text-align: right;\n",
       "    }\n",
       "</style>\n",
       "<table border=\"1\" class=\"dataframe\">\n",
       "  <thead>\n",
       "    <tr style=\"text-align: right;\">\n",
       "      <th></th>\n",
       "      <th>id</th>\n",
       "      <th>perc_premium_paid_by_cash_credit</th>\n",
       "      <th>age</th>\n",
       "      <th>Income</th>\n",
       "      <th>Count_3-6_months_late</th>\n",
       "      <th>Count_6-12_months_late</th>\n",
       "      <th>Count_more_than_12_months_late</th>\n",
       "      <th>application_underwriting_score</th>\n",
       "      <th>no_of_premiums_paid</th>\n",
       "      <th>target</th>\n",
       "    </tr>\n",
       "  </thead>\n",
       "  <tbody>\n",
       "    <tr>\n",
       "      <th>count</th>\n",
       "      <td>79853.000000</td>\n",
       "      <td>79853.000000</td>\n",
       "      <td>79853.000000</td>\n",
       "      <td>7.985300e+04</td>\n",
       "      <td>79756.000000</td>\n",
       "      <td>79756.000000</td>\n",
       "      <td>79756.000000</td>\n",
       "      <td>76879.000000</td>\n",
       "      <td>79853.000000</td>\n",
       "      <td>79853.000000</td>\n",
       "    </tr>\n",
       "    <tr>\n",
       "      <th>mean</th>\n",
       "      <td>57167.166368</td>\n",
       "      <td>0.314288</td>\n",
       "      <td>51.634786</td>\n",
       "      <td>2.088472e+05</td>\n",
       "      <td>0.248671</td>\n",
       "      <td>0.078188</td>\n",
       "      <td>0.060008</td>\n",
       "      <td>99.067291</td>\n",
       "      <td>10.863887</td>\n",
       "      <td>0.937410</td>\n",
       "    </tr>\n",
       "    <tr>\n",
       "      <th>std</th>\n",
       "      <td>32928.970160</td>\n",
       "      <td>0.334915</td>\n",
       "      <td>14.270463</td>\n",
       "      <td>4.965826e+05</td>\n",
       "      <td>0.691468</td>\n",
       "      <td>0.436507</td>\n",
       "      <td>0.312023</td>\n",
       "      <td>0.739799</td>\n",
       "      <td>5.170687</td>\n",
       "      <td>0.242226</td>\n",
       "    </tr>\n",
       "    <tr>\n",
       "      <th>min</th>\n",
       "      <td>2.000000</td>\n",
       "      <td>0.000000</td>\n",
       "      <td>21.013699</td>\n",
       "      <td>2.403000e+04</td>\n",
       "      <td>0.000000</td>\n",
       "      <td>0.000000</td>\n",
       "      <td>0.000000</td>\n",
       "      <td>91.900000</td>\n",
       "      <td>2.000000</td>\n",
       "      <td>0.000000</td>\n",
       "    </tr>\n",
       "    <tr>\n",
       "      <th>25%</th>\n",
       "      <td>28640.000000</td>\n",
       "      <td>0.034000</td>\n",
       "      <td>41.024658</td>\n",
       "      <td>1.080100e+05</td>\n",
       "      <td>0.000000</td>\n",
       "      <td>0.000000</td>\n",
       "      <td>0.000000</td>\n",
       "      <td>98.810000</td>\n",
       "      <td>7.000000</td>\n",
       "      <td>1.000000</td>\n",
       "    </tr>\n",
       "    <tr>\n",
       "      <th>50%</th>\n",
       "      <td>57262.000000</td>\n",
       "      <td>0.167000</td>\n",
       "      <td>51.027397</td>\n",
       "      <td>1.665600e+05</td>\n",
       "      <td>0.000000</td>\n",
       "      <td>0.000000</td>\n",
       "      <td>0.000000</td>\n",
       "      <td>99.210000</td>\n",
       "      <td>10.000000</td>\n",
       "      <td>1.000000</td>\n",
       "    </tr>\n",
       "    <tr>\n",
       "      <th>75%</th>\n",
       "      <td>85632.000000</td>\n",
       "      <td>0.538000</td>\n",
       "      <td>62.016438</td>\n",
       "      <td>2.520900e+05</td>\n",
       "      <td>0.000000</td>\n",
       "      <td>0.000000</td>\n",
       "      <td>0.000000</td>\n",
       "      <td>99.540000</td>\n",
       "      <td>14.000000</td>\n",
       "      <td>1.000000</td>\n",
       "    </tr>\n",
       "    <tr>\n",
       "      <th>max</th>\n",
       "      <td>114076.000000</td>\n",
       "      <td>1.000000</td>\n",
       "      <td>103.019178</td>\n",
       "      <td>9.026260e+07</td>\n",
       "      <td>13.000000</td>\n",
       "      <td>17.000000</td>\n",
       "      <td>11.000000</td>\n",
       "      <td>99.890000</td>\n",
       "      <td>60.000000</td>\n",
       "      <td>1.000000</td>\n",
       "    </tr>\n",
       "  </tbody>\n",
       "</table>\n",
       "</div>"
      ],
      "text/plain": [
       "                  id  perc_premium_paid_by_cash_credit           age  \\\n",
       "count   79853.000000                      79853.000000  79853.000000   \n",
       "mean    57167.166368                          0.314288     51.634786   \n",
       "std     32928.970160                          0.334915     14.270463   \n",
       "min         2.000000                          0.000000     21.013699   \n",
       "25%     28640.000000                          0.034000     41.024658   \n",
       "50%     57262.000000                          0.167000     51.027397   \n",
       "75%     85632.000000                          0.538000     62.016438   \n",
       "max    114076.000000                          1.000000    103.019178   \n",
       "\n",
       "             Income  Count_3-6_months_late  Count_6-12_months_late  \\\n",
       "count  7.985300e+04           79756.000000            79756.000000   \n",
       "mean   2.088472e+05               0.248671                0.078188   \n",
       "std    4.965826e+05               0.691468                0.436507   \n",
       "min    2.403000e+04               0.000000                0.000000   \n",
       "25%    1.080100e+05               0.000000                0.000000   \n",
       "50%    1.665600e+05               0.000000                0.000000   \n",
       "75%    2.520900e+05               0.000000                0.000000   \n",
       "max    9.026260e+07              13.000000               17.000000   \n",
       "\n",
       "       Count_more_than_12_months_late  application_underwriting_score  \\\n",
       "count                    79756.000000                    76879.000000   \n",
       "mean                         0.060008                       99.067291   \n",
       "std                          0.312023                        0.739799   \n",
       "min                          0.000000                       91.900000   \n",
       "25%                          0.000000                       98.810000   \n",
       "50%                          0.000000                       99.210000   \n",
       "75%                          0.000000                       99.540000   \n",
       "max                         11.000000                       99.890000   \n",
       "\n",
       "       no_of_premiums_paid        target  \n",
       "count         79853.000000  79853.000000  \n",
       "mean             10.863887      0.937410  \n",
       "std               5.170687      0.242226  \n",
       "min               2.000000      0.000000  \n",
       "25%               7.000000      1.000000  \n",
       "50%              10.000000      1.000000  \n",
       "75%              14.000000      1.000000  \n",
       "max              60.000000      1.000000  "
      ]
     },
     "execution_count": 217,
     "metadata": {},
     "output_type": "execute_result"
    }
   ],
   "source": [
    "# Overall view of the dataset\n",
    "train.describe()"
   ]
  },
  {
   "cell_type": "markdown",
   "metadata": {},
   "source": [
    "# Data Exploration"
   ]
  },
  {
   "cell_type": "code",
   "execution_count": 218,
   "metadata": {},
   "outputs": [
    {
     "data": {
      "text/plain": [
       "<matplotlib.axes._subplots.AxesSubplot at 0x258355622c8>"
      ]
     },
     "execution_count": 218,
     "metadata": {},
     "output_type": "execute_result"
    },
    {
     "data": {
      "image/png": "[encoded data removed]",
      "text/plain": [
       "<Figure size 1440x720 with 2 Axes>"
      ]
     },
     "metadata": {
      "needs_background": "light"
     },
     "output_type": "display_data"
    }
   ],
   "source": [
    "# looking at the correlation between numerical variables\n",
    "corr = train[['id','perc_premium_paid_by_cash_credit', 'age', 'Income',\n",
    "       'Count_3-6_months_late', 'Count_6-12_months_late',\n",
    "       'Count_more_than_12_months_late', 'application_underwriting_score',\n",
    "       'no_of_premiums_paid', 'target']].corr()\n",
    "mask = np.array(corr)\n",
    "mask[np.tril_indices_from(mask)] = False\n",
    "fig,ax= plt.subplots()\n",
    "fig.set_size_inches(20,10)\n",
    "sns.heatmap(corr,mask=mask,vmax=.9, square=True,annot=True, cmap=\"YlGnBu\")"
   ]
  },
  {
   "cell_type": "markdown",
   "metadata": {},
   "source": [
    "Here, No meaningful correlation between features can be found"
   ]
  },
  {
   "cell_type": "markdown",
   "metadata": {},
   "source": [
    "## Univariate Analysis"
   ]
  },
  {
   "cell_type": "code",
   "execution_count": 219,
   "metadata": {},
   "outputs": [
    {
     "data": {
      "text/plain": [
       "<matplotlib.axes._subplots.AxesSubplot at 0x258354bf488>"
      ]
     },
     "execution_count": 219,
     "metadata": {},
     "output_type": "execute_result"
    },
    {
     "data": {
      "image/png": "[encoded data removed]",
      "text/plain": [
       "<Figure size 432x288 with 1 Axes>"
      ]
     },
     "metadata": {
      "needs_background": "light"
     },
     "output_type": "display_data"
    }
   ],
   "source": [
    "sns.distplot(train['age'],bins=30,kde=False)"
   ]
  },
  {
   "cell_type": "markdown",
   "metadata": {},
   "source": [
    "Age distribution is somewhat normal"
   ]
  },
  {
   "cell_type": "code",
   "execution_count": 220,
   "metadata": {},
   "outputs": [
    {
     "data": {
      "text/plain": [
       "<matplotlib.axes._subplots.AxesSubplot at 0x25829320148>"
      ]
     },
     "execution_count": 220,
     "metadata": {},
     "output_type": "execute_result"
    },
    {
     "data": {
      "image/png": "[encoded data removed]",
      "text/plain": [
       "<Figure size 432x288 with 1 Axes>"
      ]
     },
     "metadata": {
      "needs_background": "light"
     },
     "output_type": "display_data"
    }
   ],
   "source": [
    "sns.distplot(train['application_underwriting_score'],kde=False)"
   ]
  },
  {
   "cell_type": "markdown",
   "metadata": {},
   "source": [
    "Skewed to the right side and requires transformation"
   ]
  },
  {
   "cell_type": "code",
   "execution_count": 221,
   "metadata": {},
   "outputs": [
    {
     "data": {
      "text/plain": [
       "<matplotlib.axes._subplots.AxesSubplot at 0x25833f00e08>"
      ]
     },
     "execution_count": 221,
     "metadata": {},
     "output_type": "execute_result"
    },
    {
     "data": {
      "image/png": "[encoded data removed]",
      "text/plain": [
       "<Figure size 432x288 with 1 Axes>"
      ]
     },
     "metadata": {
      "needs_background": "light"
     },
     "output_type": "display_data"
    }
   ],
   "source": [
    "sns.distplot(train['no_of_premiums_paid'],bins=30,kde=False)"
   ]
  },
  {
   "cell_type": "markdown",
   "metadata": {},
   "source": [
    "Skewed to the left side and requires transformation"
   ]
  },
  {
   "cell_type": "markdown",
   "metadata": {},
   "source": [
    "## Bivariate Analysis"
   ]
  },
  {
   "cell_type": "code",
   "execution_count": 222,
   "metadata": {},
   "outputs": [
    {
     "data": {
      "text/plain": [
       "<seaborn.axisgrid.FacetGrid at 0x2583494d988>"
      ]
     },
     "execution_count": 222,
     "metadata": {},
     "output_type": "execute_result"
    },
    {
     "data": {
      "image/png": "[encoded data removed]",
      "text/plain": [
       "<Figure size 360x360 with 1 Axes>"
      ]
     },
     "metadata": {
      "needs_background": "light"
     },
     "output_type": "display_data"
    }
   ],
   "source": [
    "sns.relplot(y='Income',x='age',data=train)"
   ]
  },
  {
   "cell_type": "markdown",
   "metadata": {},
   "source": [
    "Depicts presence of outliers in Income"
   ]
  },
  {
   "cell_type": "code",
   "execution_count": 223,
   "metadata": {},
   "outputs": [
    {
     "name": "stdout",
     "output_type": "stream",
     "text": [
      "target               0      1\n",
      "sourcing_channel             \n",
      "A                 2349  40785\n",
      "B                 1066  15446\n",
      "C                  903  11136\n",
      "D                  634   6925\n",
      "E                   46    563\n"
     ]
    },
    {
     "data": {
      "image/png": "[encoded data removed]",
      "text/plain": [
       "<Figure size 576x576 with 1 Axes>"
      ]
     },
     "metadata": {
      "needs_background": "light"
     },
     "output_type": "display_data"
    }
   ],
   "source": [
    "print(pd.crosstab(train['sourcing_channel'],train[\"target\"]))\n",
    "Dependents = pd.crosstab(train['sourcing_channel'],train[\"target\"])\n",
    "Dependents.div(Dependents.sum(1).astype(float),axis=0).plot(kind=\"bar\",stacked=True,figsize=(8,8))\n",
    "plt.xlabel(\"sourcing_channel\")\n",
    "plt.ylabel(\"target\")\n",
    "plt.show()"
   ]
  },
  {
   "cell_type": "code",
   "execution_count": 224,
   "metadata": {},
   "outputs": [
    {
     "name": "stdout",
     "output_type": "stream",
     "text": [
      "target                    0      1\n",
      "Count_3-6_months_late             \n",
      "0.0                    2627  64174\n",
      "1.0                    1153   7673\n",
      "2.0                     592   1927\n",
      "3.0                     288    666\n",
      "4.0                     158    216\n",
      "5.0                      67    101\n",
      "6.0                      31     37\n",
      "7.0                      10     13\n",
      "8.0                       6      9\n",
      "9.0                       2      2\n",
      "10.0                      1      0\n",
      "11.0                      1      0\n",
      "12.0                      1      0\n",
      "13.0                      1      0\n"
     ]
    },
    {
     "data": {
      "image/png": "[encoded data removed]",
      "text/plain": [
       "<Figure size 432x288 with 1 Axes>"
      ]
     },
     "metadata": {
      "needs_background": "light"
     },
     "output_type": "display_data"
    }
   ],
   "source": [
    "print(pd.crosstab(train['Count_3-6_months_late'],train[\"target\"]))\n",
    "Dependents = pd.crosstab(train['Count_3-6_months_late'],train[\"target\"])\n",
    "Dependents.div(Dependents.sum(1),axis=0).plot(kind=\"bar\",stacked=True)\n",
    "plt.xlabel(\"Count_3-6_months_late\")\n",
    "plt.ylabel(\"target\")\n",
    "plt.show()"
   ]
  },
  {
   "cell_type": "code",
   "execution_count": 225,
   "metadata": {},
   "outputs": [
    {
     "name": "stdout",
     "output_type": "stream",
     "text": [
      "target                     0      1\n",
      "Count_6-12_months_late             \n",
      "0.0                     3445  72386\n",
      "1.0                      828   1852\n",
      "2.0                      334    359\n",
      "3.0                      185    132\n",
      "4.0                       85     45\n",
      "5.0                       30     16\n",
      "6.0                       13     13\n",
      "7.0                        7      4\n",
      "8.0                        3      2\n",
      "9.0                        2      2\n",
      "10.0                       1      3\n",
      "11.0                       1      1\n",
      "12.0                       1      0\n",
      "13.0                       1      1\n",
      "14.0                       1      1\n",
      "15.0                       0      1\n",
      "17.0                       1      0\n"
     ]
    },
    {
     "data": {
      "image/png": "[encoded data removed]",
      "text/plain": [
       "<Figure size 720x504 with 1 Axes>"
      ]
     },
     "metadata": {
      "needs_background": "light"
     },
     "output_type": "display_data"
    }
   ],
   "source": [
    "print(pd.crosstab(train['Count_6-12_months_late'],train[\"target\"]))\n",
    "Dependents = pd.crosstab(train['Count_6-12_months_late'],train[\"target\"])\n",
    "Dependents.div(Dependents.sum(1).astype(float),axis=0).plot(kind=\"bar\",stacked=True,figsize=(10,7))\n",
    "plt.xlabel(\"Count_6-12_months_late\")\n",
    "plt.ylabel(\"target\")\n",
    "plt.show()"
   ]
  },
  {
   "cell_type": "code",
   "execution_count": 226,
   "metadata": {},
   "outputs": [
    {
     "name": "stdout",
     "output_type": "stream",
     "text": [
      "target                             0      1\n",
      "Count_more_than_12_months_late             \n",
      "0.0                             3750  72288\n",
      "1.0                              835   2161\n",
      "2.0                              228    270\n",
      "3.0                               85     66\n",
      "4.0                               25     23\n",
      "5.0                                7      6\n",
      "6.0                                4      2\n",
      "7.0                                2      1\n",
      "8.0                                1      1\n",
      "11.0                               1      0\n"
     ]
    },
    {
     "data": {
      "image/png": "[encoded data removed]",
      "text/plain": [
       "<Figure size 1008x720 with 1 Axes>"
      ]
     },
     "metadata": {
      "needs_background": "light"
     },
     "output_type": "display_data"
    }
   ],
   "source": [
    "print(pd.crosstab(train['Count_more_than_12_months_late'],train[\"target\"]))\n",
    "Dependents = pd.crosstab(train['Count_more_than_12_months_late'],train[\"target\"])\n",
    "Dependents.div(Dependents.sum(1).astype(float),axis=0).plot(kind=\"bar\",stacked=True,figsize=(14,10))\n",
    "plt.xlabel(\"Count_more_than_12_months_late\")\n",
    "plt.ylabel(\"target\")\n",
    "plt.show()"
   ]
  },
  {
   "cell_type": "code",
   "execution_count": 227,
   "metadata": {},
   "outputs": [
    {
     "name": "stdout",
     "output_type": "stream",
     "text": [
      "target                  0      1\n",
      "residence_area_type             \n",
      "Rural                1998  29672\n",
      "Urban                3000  45183\n"
     ]
    },
    {
     "data": {
      "image/png": "[encoded data removed]",
      "text/plain": [
       "<Figure size 360x360 with 1 Axes>"
      ]
     },
     "metadata": {
      "needs_background": "light"
     },
     "output_type": "display_data"
    }
   ],
   "source": [
    "print(pd.crosstab(train['residence_area_type'],train[\"target\"]))\n",
    "Dependents = pd.crosstab(train['residence_area_type'],train[\"target\"])\n",
    "Dependents.div(Dependents.sum(1).astype(float),axis=0).plot(kind=\"bar\",stacked=True,figsize=(5,5))\n",
    "plt.xlabel(\"residence_area_type\")\n",
    "plt.ylabel(\"target\")\n",
    "plt.show()"
   ]
  },
  {
   "cell_type": "markdown",
   "metadata": {},
   "source": [
    "After that we can conclude that sourcing channel type and residence area don't effect target variable at all"
   ]
  },
  {
   "cell_type": "markdown",
   "metadata": {},
   "source": [
    "# Data Cleaning"
   ]
  },
  {
   "cell_type": "code",
   "execution_count": 228,
   "metadata": {},
   "outputs": [],
   "source": [
    "target = train.pop('target')\n",
    "train_id = train.pop('id')\n",
    "test_id = test.pop('id')"
   ]
  },
  {
   "cell_type": "code",
   "execution_count": 229,
   "metadata": {},
   "outputs": [],
   "source": [
    "len_train = len(train)"
   ]
  },
  {
   "cell_type": "code",
   "execution_count": 230,
   "metadata": {},
   "outputs": [],
   "source": [
    "merged = pd.concat([train, test])"
   ]
  },
  {
   "cell_type": "code",
   "execution_count": 231,
   "metadata": {},
   "outputs": [],
   "source": [
    "merged.drop(['residence_area_type','sourcing_channel'],axis=1,inplace=True)"
   ]
  },
  {
   "cell_type": "code",
   "execution_count": 232,
   "metadata": {},
   "outputs": [
    {
     "name": "stdout",
     "output_type": "stream",
     "text": [
      "Feature                       # of missing values\n"
     ]
    },
    {
     "data": {
      "text/plain": [
       "perc_premium_paid_by_cash_credit       0\n",
       "age                                    0\n",
       "Income                                 0\n",
       "Count_3-6_months_late                128\n",
       "Count_6-12_months_late               128\n",
       "Count_more_than_12_months_late       128\n",
       "application_underwriting_score      4297\n",
       "no_of_premiums_paid                    0\n",
       "dtype: int64"
      ]
     },
     "execution_count": 232,
     "metadata": {},
     "output_type": "execute_result"
    }
   ],
   "source": [
    "print('Feature                       # of missing values')\n",
    "merged.isna().sum()"
   ]
  },
  {
   "cell_type": "code",
   "execution_count": 233,
   "metadata": {},
   "outputs": [],
   "source": [
    "merged['Count_3-6_months_late'].fillna(merged['Count_3-6_months_late'].mode()[0],inplace=True)\n",
    "merged['Count_6-12_months_late'].fillna(merged['Count_6-12_months_late'].mode()[0],inplace=True)\n",
    "merged['Count_more_than_12_months_late'].fillna(merged['Count_more_than_12_months_late'].mode()[0],inplace=True)\n",
    "merged['application_underwriting_score'].fillna(merged['application_underwriting_score'].mean(),inplace=True)"
   ]
  },
  {
   "cell_type": "code",
   "execution_count": 234,
   "metadata": {},
   "outputs": [],
   "source": [
    "original_features =['perc_premium_paid_by_cash_credit', 'age', 'Income',\n",
    "       'Count_3-6_months_late', 'Count_6-12_months_late',\n",
    "       'Count_more_than_12_months_late','application_underwriting_score',\n",
    "       'no_of_premiums_paid']"
   ]
  },
  {
   "cell_type": "markdown",
   "metadata": {},
   "source": [
    "# Data Transformation"
   ]
  },
  {
   "cell_type": "code",
   "execution_count": 235,
   "metadata": {},
   "outputs": [],
   "source": [
    "# Transforming the features to remove skewness\n",
    "\n",
    "from sklearn.preprocessing import MinMaxScaler\n",
    "scaler = MinMaxScaler()\n",
    "merged['Income']=np.log(merged['Income'])\n",
    "merged['no_of_premiums_paid']=np.log(merged['no_of_premiums_paid'])\n",
    "merged['application_underwriting_score']=np.log(merged[['application_underwriting_score']])"
   ]
  },
  {
   "cell_type": "markdown",
   "metadata": {},
   "source": [
    "Let's make some more features to increase the strength of model"
   ]
  },
  {
   "cell_type": "code",
   "execution_count": 236,
   "metadata": {},
   "outputs": [],
   "source": [
    "for col in original_features:\n",
    "    # Normalize the data, so that it can be used in norm.cdf(), which makes model more powerful\n",
    "    merged[col] = ((merged[col] - merged[col].mean()) \n",
    "    / merged[col].std()).astype('float32')\n",
    "\n",
    "    # Square\n",
    "    merged[col+'^2'] = merged[col] * merged[col]\n",
    "\n",
    "    # Cube\n",
    "    merged[col+'^3'] = merged[col] * merged[col] * merged[col]\n",
    "\n",
    "    # 4th power\n",
    "    merged[col+'^4'] = merged[col] * merged[col] * merged[col] * merged[col]\n",
    "\n",
    "    # Cumulative normal percentile\n",
    "    merged[col+'_cnp'] = norm.cdf(merged[col]).astype('float32')\n"
   ]
  },
  {
   "cell_type": "code",
   "execution_count": 237,
   "metadata": {},
   "outputs": [],
   "source": [
    "new_features = set(merged.columns) - set(original_features)"
   ]
  },
  {
   "cell_type": "code",
   "execution_count": 238,
   "metadata": {},
   "outputs": [],
   "source": [
    "for col in new_features:\n",
    "    merged[col] = ((merged[col] - merged[col].mean()) \n",
    "    / merged[col].std()).astype('float32')"
   ]
  },
  {
   "cell_type": "code",
   "execution_count": 239,
   "metadata": {},
   "outputs": [
    {
     "data": {
      "text/html": [
       "<div>\n",
       "<style scoped>\n",
       "    .dataframe tbody tr th:only-of-type {\n",
       "        vertical-align: middle;\n",
       "    }\n",
       "\n",
       "    .dataframe tbody tr th {\n",
       "        vertical-align: top;\n",
       "    }\n",
       "\n",
       "    .dataframe thead th {\n",
       "        text-align: right;\n",
       "    }\n",
       "</style>\n",
       "<table border=\"1\" class=\"dataframe\">\n",
       "  <thead>\n",
       "    <tr style=\"text-align: right;\">\n",
       "      <th></th>\n",
       "      <th>perc_premium_paid_by_cash_credit</th>\n",
       "      <th>age</th>\n",
       "      <th>Income</th>\n",
       "      <th>Count_3-6_months_late</th>\n",
       "      <th>Count_6-12_months_late</th>\n",
       "      <th>Count_more_than_12_months_late</th>\n",
       "      <th>application_underwriting_score</th>\n",
       "      <th>no_of_premiums_paid</th>\n",
       "      <th>perc_premium_paid_by_cash_credit^2</th>\n",
       "      <th>perc_premium_paid_by_cash_credit^3</th>\n",
       "      <th>...</th>\n",
       "      <th>Count_more_than_12_months_late^4</th>\n",
       "      <th>Count_more_than_12_months_late_cnp</th>\n",
       "      <th>application_underwriting_score^2</th>\n",
       "      <th>application_underwriting_score^3</th>\n",
       "      <th>application_underwriting_score^4</th>\n",
       "      <th>application_underwriting_score_cnp</th>\n",
       "      <th>no_of_premiums_paid^2</th>\n",
       "      <th>no_of_premiums_paid^3</th>\n",
       "      <th>no_of_premiums_paid^4</th>\n",
       "      <th>no_of_premiums_paid_cnp</th>\n",
       "    </tr>\n",
       "  </thead>\n",
       "  <tbody>\n",
       "    <tr>\n",
       "      <th>0</th>\n",
       "      <td>0.342624</td>\n",
       "      <td>-1.299205</td>\n",
       "      <td>1.184663</td>\n",
       "      <td>-0.355901</td>\n",
       "      <td>-0.178501</td>\n",
       "      <td>-0.191295</td>\n",
       "      <td>-0.058533</td>\n",
       "      <td>0.594541</td>\n",
       "      <td>-0.749849</td>\n",
       "      <td>-0.316104</td>\n",
       "      <td>...</td>\n",
       "      <td>-0.018131</td>\n",
       "      <td>-0.223521</td>\n",
       "      <td>-0.239918</td>\n",
       "      <td>0.092872</td>\n",
       "      <td>-0.070642</td>\n",
       "      <td>-0.230656</td>\n",
       "      <td>-0.416810</td>\n",
       "      <td>0.141520</td>\n",
       "      <td>-0.271066</td>\n",
       "      <td>0.753348</td>\n",
       "    </tr>\n",
       "    <tr>\n",
       "      <th>1</th>\n",
       "      <td>-0.909406</td>\n",
       "      <td>0.518392</td>\n",
       "      <td>1.003442</td>\n",
       "      <td>-0.355901</td>\n",
       "      <td>-0.178501</td>\n",
       "      <td>-0.191295</td>\n",
       "      <td>1.121581</td>\n",
       "      <td>1.570480</td>\n",
       "      <td>-0.146923</td>\n",
       "      <td>-0.610070</td>\n",
       "      <td>...</td>\n",
       "      <td>-0.018131</td>\n",
       "      <td>-0.223521</td>\n",
       "      <td>0.062114</td>\n",
       "      <td>0.138466</td>\n",
       "      <td>-0.064516</td>\n",
       "      <td>1.381102</td>\n",
       "      <td>0.945668</td>\n",
       "      <td>0.961071</td>\n",
       "      <td>0.221437</td>\n",
       "      <td>1.521414</td>\n",
       "    </tr>\n",
       "    <tr>\n",
       "      <th>2</th>\n",
       "      <td>1.800835</td>\n",
       "      <td>-0.250753</td>\n",
       "      <td>-1.003587</td>\n",
       "      <td>2.544524</td>\n",
       "      <td>6.612145</td>\n",
       "      <td>3.030668</td>\n",
       "      <td>-0.508877</td>\n",
       "      <td>-0.665215</td>\n",
       "      <td>1.905790</td>\n",
       "      <td>1.835778</td>\n",
       "      <td>...</td>\n",
       "      <td>-0.002635</td>\n",
       "      <td>4.541094</td>\n",
       "      <td>-0.178398</td>\n",
       "      <td>0.088621</td>\n",
       "      <td>-0.070383</td>\n",
       "      <td>-0.934172</td>\n",
       "      <td>-0.359399</td>\n",
       "      <td>0.028648</td>\n",
       "      <td>-0.265208</td>\n",
       "      <td>-0.906566</td>\n",
       "    </tr>\n",
       "    <tr>\n",
       "      <th>3</th>\n",
       "      <td>-0.792868</td>\n",
       "      <td>-0.670287</td>\n",
       "      <td>0.654567</td>\n",
       "      <td>-0.355901</td>\n",
       "      <td>-0.178501</td>\n",
       "      <td>-0.191295</td>\n",
       "      <td>0.688715</td>\n",
       "      <td>-0.153786</td>\n",
       "      <td>-0.315473</td>\n",
       "      <td>-0.515954</td>\n",
       "      <td>...</td>\n",
       "      <td>-0.018131</td>\n",
       "      <td>-0.223521</td>\n",
       "      <td>-0.126546</td>\n",
       "      <td>0.103434</td>\n",
       "      <td>-0.069771</td>\n",
       "      <td>0.910780</td>\n",
       "      <td>-0.629492</td>\n",
       "      <td>0.093690</td>\n",
       "      <td>-0.281348</td>\n",
       "      <td>-0.251251</td>\n",
       "    </tr>\n",
       "    <tr>\n",
       "      <th>4</th>\n",
       "      <td>-0.783904</td>\n",
       "      <td>2.406104</td>\n",
       "      <td>0.302266</td>\n",
       "      <td>-0.355901</td>\n",
       "      <td>-0.178501</td>\n",
       "      <td>-0.191295</td>\n",
       "      <td>1.094567</td>\n",
       "      <td>0.431652</td>\n",
       "      <td>-0.327482</td>\n",
       "      <td>-0.509752</td>\n",
       "      <td>...</td>\n",
       "      <td>-0.018131</td>\n",
       "      <td>-0.223521</td>\n",
       "      <td>0.047701</td>\n",
       "      <td>0.135251</td>\n",
       "      <td>-0.065086</td>\n",
       "      <td>1.357139</td>\n",
       "      <td>-0.524596</td>\n",
       "      <td>0.112497</td>\n",
       "      <td>-0.278525</td>\n",
       "      <td>0.552729</td>\n",
       "    </tr>\n",
       "  </tbody>\n",
       "</table>\n",
       "<p>5 rows × 40 columns</p>\n",
       "</div>"
      ],
      "text/plain": [
       "   perc_premium_paid_by_cash_credit       age    Income  \\\n",
       "0                          0.342624 -1.299205  1.184663   \n",
       "1                         -0.909406  0.518392  1.003442   \n",
       "2                          1.800835 -0.250753 -1.003587   \n",
       "3                         -0.792868 -0.670287  0.654567   \n",
       "4                         -0.783904  2.406104  0.302266   \n",
       "\n",
       "   Count_3-6_months_late  Count_6-12_months_late  \\\n",
       "0              -0.355901               -0.178501   \n",
       "1              -0.355901               -0.178501   \n",
       "2               2.544524                6.612145   \n",
       "3              -0.355901               -0.178501   \n",
       "4              -0.355901               -0.178501   \n",
       "\n",
       "   Count_more_than_12_months_late  application_underwriting_score  \\\n",
       "0                       -0.191295                       -0.058533   \n",
       "1                       -0.191295                        1.121581   \n",
       "2                        3.030668                       -0.508877   \n",
       "3                       -0.191295                        0.688715   \n",
       "4                       -0.191295                        1.094567   \n",
       "\n",
       "   no_of_premiums_paid  perc_premium_paid_by_cash_credit^2  \\\n",
       "0             0.594541                           -0.749849   \n",
       "1             1.570480                           -0.146923   \n",
       "2            -0.665215                            1.905790   \n",
       "3            -0.153786                           -0.315473   \n",
       "4             0.431652                           -0.327482   \n",
       "\n",
       "   perc_premium_paid_by_cash_credit^3  ...  Count_more_than_12_months_late^4  \\\n",
       "0                           -0.316104  ...                         -0.018131   \n",
       "1                           -0.610070  ...                         -0.018131   \n",
       "2                            1.835778  ...                         -0.002635   \n",
       "3                           -0.515954  ...                         -0.018131   \n",
       "4                           -0.509752  ...                         -0.018131   \n",
       "\n",
       "   Count_more_than_12_months_late_cnp  application_underwriting_score^2  \\\n",
       "0                           -0.223521                         -0.239918   \n",
       "1                           -0.223521                          0.062114   \n",
       "2                            4.541094                         -0.178398   \n",
       "3                           -0.223521                         -0.126546   \n",
       "4                           -0.223521                          0.047701   \n",
       "\n",
       "   application_underwriting_score^3  application_underwriting_score^4  \\\n",
       "0                          0.092872                         -0.070642   \n",
       "1                          0.138466                         -0.064516   \n",
       "2                          0.088621                         -0.070383   \n",
       "3                          0.103434                         -0.069771   \n",
       "4                          0.135251                         -0.065086   \n",
       "\n",
       "   application_underwriting_score_cnp  no_of_premiums_paid^2  \\\n",
       "0                           -0.230656              -0.416810   \n",
       "1                            1.381102               0.945668   \n",
       "2                           -0.934172              -0.359399   \n",
       "3                            0.910780              -0.629492   \n",
       "4                            1.357139              -0.524596   \n",
       "\n",
       "   no_of_premiums_paid^3  no_of_premiums_paid^4  no_of_premiums_paid_cnp  \n",
       "0               0.141520              -0.271066                 0.753348  \n",
       "1               0.961071               0.221437                 1.521414  \n",
       "2               0.028648              -0.265208                -0.906566  \n",
       "3               0.093690              -0.281348                -0.251251  \n",
       "4               0.112497              -0.278525                 0.552729  \n",
       "\n",
       "[5 rows x 40 columns]"
      ]
     },
     "execution_count": 239,
     "metadata": {},
     "output_type": "execute_result"
    }
   ],
   "source": [
    "merged.head()"
   ]
  },
  {
   "cell_type": "code",
   "execution_count": 240,
   "metadata": {},
   "outputs": [
    {
     "data": {
      "text/plain": [
       "((79853, 40), (34224, 40))"
      ]
     },
     "execution_count": 240,
     "metadata": {},
     "output_type": "execute_result"
    }
   ],
   "source": [
    "train=merged[:len_train]\n",
    "test=merged[len_train:]\n",
    "train.shape,test.shape"
   ]
  },
  {
   "cell_type": "markdown",
   "metadata": {},
   "source": [
    "# Building Model"
   ]
  },
  {
   "cell_type": "code",
   "execution_count": 241,
   "metadata": {},
   "outputs": [],
   "source": [
    "from sklearn.linear_model import LogisticRegression\n",
    "from sklearn.neighbors import KNeighborsClassifier\n",
    "from sklearn.tree import DecisionTreeClassifier\n",
    "from sklearn.ensemble import RandomForestClassifier\n",
    "from sklearn.naive_bayes import GaussianNB\n",
    "from sklearn.metrics import roc_auc_score,f1_score,precision_score,recall_score\n",
    "from sklearn.metrics import confusion_matrix,accuracy_score\n",
    "from sklearn.model_selection import train_test_split as tts\n",
    "from sklearn.model_selection import cross_val_score"
   ]
  },
  {
   "cell_type": "code",
   "execution_count": 242,
   "metadata": {},
   "outputs": [],
   "source": [
    "x1,x2,y1,y2=tts(train,target,test_size=0.2,random_state=50,stratify=target)"
   ]
  },
  {
   "cell_type": "code",
   "execution_count": 243,
   "metadata": {},
   "outputs": [],
   "source": [
    "models = {}\n",
    "#model2 = KNeighborsClassifier()\n",
    "#models.append(model2)\n",
    "model1 = LogisticRegression(class_weight='balanced',max_iter=1000)\n",
    "model2 = GaussianNB()\n",
    "model3 = DecisionTreeClassifier(class_weight='balanced')\n",
    "model4 = RandomForestClassifier(class_weight='balanced')\n",
    "\n",
    "models = {'LogReg ':model1,'GaussianNB ':model2,'DTree ':model3,'RandForest ':model4}"
   ]
  },
  {
   "cell_type": "code",
   "execution_count": 244,
   "metadata": {
    "scrolled": true
   },
   "outputs": [
    {
     "name": "stdout",
     "output_type": "stream",
     "text": [
      "LogReg  :\n",
      "\n",
      "Train: 0.8397867902289933\n",
      "Validation 0.8464055173335114\n",
      "\n",
      "Confusion Matrix : \n",
      "[[  730   270]\n",
      " [ 2889 12082]]\n",
      "\n",
      "\n",
      "\n",
      "\n",
      "GaussianNB  :\n",
      "\n",
      "Train: 0.8245460984449876\n",
      "Validation 0.832358426290829\n",
      "\n",
      "Confusion Matrix : \n",
      "[[  379   621]\n",
      " [  699 14272]]\n",
      "\n",
      "\n",
      "\n",
      "\n",
      "DTree  :\n",
      "\n",
      "Train: 1.0\n",
      "Validation 0.5811509919177076\n",
      "\n",
      "Confusion Matrix : \n",
      "[[  213   787]\n",
      " [  759 14212]]\n",
      "\n",
      "\n",
      "\n",
      "\n",
      "RandForest  :\n",
      "\n",
      "Train: 1.0\n",
      "Validation 0.7924664685057778\n",
      "\n",
      "Confusion Matrix : \n",
      "[[  108   892]\n",
      " [  103 14868]]\n",
      "\n",
      "\n",
      "\n",
      "\n"
     ]
    }
   ],
   "source": [
    "for clf in models.keys():\n",
    "    logi = models[clf].fit(x1,y1)\n",
    "    pred1=logi.predict_proba(x1)\n",
    "    pred1 = pred1[:, 1]\n",
    "    pred2=logi.predict_proba(x2)\n",
    "    pred2 = pred2[:, 1]\n",
    "    print(clf,':\\n')\n",
    "    print(\"Train:\",roc_auc_score(y1,pred1))\n",
    "    print(\"Validation\",roc_auc_score(y2,pred2))\n",
    "    p=logi.predict(x2)\n",
    "    print('\\nConfusion Matrix : ')\n",
    "    cm=confusion_matrix(y2,p)\n",
    "    print(cm)\n",
    "    print('\\n\\n\\n')"
   ]
  },
  {
   "cell_type": "code",
   "execution_count": 245,
   "metadata": {},
   "outputs": [
    {
     "name": "stdout",
     "output_type": "stream",
     "text": [
      "LogReg  :->\n",
      "3 Fold scores :  [0.83823568 0.83875776 0.84012472]\n",
      "5 Fold scores :  [0.84428762 0.83418676 0.83933378 0.84543604 0.83488184]\n",
      "Avg 0.8393322987195333 \n",
      "\n",
      "GaussianNB  :->\n",
      "3 Fold scores :  [0.82392503 0.8191174  0.82772643]\n",
      "5 Fold scores :  [0.828811   0.81825159 0.82236026 0.83050478 0.8219953 ]\n",
      "Avg 0.8239871019578664 \n",
      "\n",
      "DTree  :->\n",
      "3 Fold scores :  [0.57626951 0.5786518  0.56748714]\n",
      "5 Fold scores :  [0.57598207 0.56894867 0.575484   0.5776205  0.57294901]\n",
      "Avg 0.5741664999962421 \n",
      "\n",
      "RandForest  :->\n",
      "3 Fold scores :  [0.79992992 0.8046762  0.79917883]\n",
      "5 Fold scores :  [0.80513242 0.80609475 0.80576942 0.80202342 0.78725001]\n",
      "Avg 0.801257827846368 \n",
      "\n"
     ]
    }
   ],
   "source": [
    "for clf in models.keys():\n",
    "    avg = 0\n",
    "    print(clf,':->')\n",
    "    for kfold in [3,5]:\n",
    "        v_results = cross_val_score(models[clf],train,target,cv=kfold,scoring='roc_auc', n_jobs = -1)\n",
    "        print(kfold,'Fold scores : ',v_results)\n",
    "        avg = avg + v_results.mean()\n",
    "    print('Avg',avg/2,'\\n')"
   ]
  },
  {
   "cell_type": "code",
   "execution_count": 246,
   "metadata": {},
   "outputs": [
    {
     "name": "stdout",
     "output_type": "stream",
     "text": [
      "\n",
      "Precision  0.9781411917098446 \n",
      "Recall  0.807026918709505 \n",
      "F1 score  0.8843831204479742\n"
     ]
    }
   ],
   "source": [
    "p=models['LogReg '].predict(x2)\n",
    "f1 = f1_score(y2,p)\n",
    "pr = precision_score(y2,p)\n",
    "rec = recall_score(y2,p)\n",
    "print('\\nPrecision ',pr,'\\nRecall ',rec,'\\nF1 score ',f1)"
   ]
  },
  {
   "cell_type": "code",
   "execution_count": null,
   "metadata": {},
   "outputs": [],
   "source": []
  }
 ],
 "metadata": {
  "kernelspec": {
   "display_name": "Python 3",
   "language": "python",
   "name": "python3"
  },
  "language_info": {
   "codemirror_mode": {
    "name": "ipython",
    "version": 3
   },
   "file_extension": ".py",
   "mimetype": "text/x-python",
   "name": "python",
   "nbconvert_exporter": "python",
   "pygments_lexer": "ipython3",
   "version": "3.7.6"
  }
 },
 "nbformat": 4,
 "nbformat_minor": 2
}
